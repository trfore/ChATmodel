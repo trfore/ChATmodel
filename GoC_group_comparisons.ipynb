{
 "cells": [
  {
   "cell_type": "markdown",
   "metadata": {},
   "source": [
    "The goal of this test is to see if two groups of GoCs (with stochastic current) have a similar spike activity in Brian2"
   ]
  },
  {
   "cell_type": "code",
   "execution_count": 1,
   "metadata": {},
   "outputs": [],
   "source": [
    "from brian2 import *\n",
    "from matplotlib import *\n",
    "import numpy as np\n",
    "import random\n",
    "import pandas as pd\n",
    "import os\n",
    "import time"
   ]
  },
  {
   "cell_type": "code",
   "execution_count": 2,
   "metadata": {},
   "outputs": [],
   "source": [
    "#Parameters Block\n",
    "activeMF_fraction = 0.2 # Int, (decimal notion) fraction of active mossy fibers\n",
    "activeMF_seed     = 451 # Int or None, if user wishes to seed the random active mossy fiber call\n",
    "\n",
    "# Cell numbers to reproduce functionally relevant 100um^3 cube of granular layer\n",
    "nmf  =  315                 # Mossy fibers\n",
    "nGrC = 4096                 # Granule cells\n",
    "nGoC =   27                 # Golgi cells\n",
    "\n",
    "# Convergence ratios of connections (to determine connection probabilities)\n",
    "conv_GrC_M   =   4          #  mf -> GrC synapses\n",
    "conv_GoC_M   =  50          #  mf -> GoC synapses\n",
    "conv_GoC_GrC = 100          # GrC -> GoC synapses\n",
    "conv_GrC_GoC =   4          # Goc -> GrC synapses\n",
    "\n",
    "# Leak conductance\n",
    "g_l_GrC   = 0.4   * nS\n",
    "g_t_GrC   = 0.4   * nS\n",
    "\n",
    "g_l_GoC   = 3.    * nS\n",
    "\n",
    "# Reversal potential (leak, excitatory, inhibitory)\n",
    "E_l_GrC   = -75   * mV\n",
    "E_e_GrC   =   0   * mV\n",
    "E_i_GrC   = -75   * mV\n",
    "\n",
    "E_l_GoC   = -50   * mV\n",
    "E_e_GoC   =   0   * mV\n",
    "E_i_GoC   = -75   * mV\n",
    "\n",
    "# Membrane capacitance\n",
    "C_m_GrC   =  3.1  * pF\n",
    "C_m_GoC   = 60.   * pF\n",
    "\n",
    "# TODO Use rise and decay times and add dyanmics to neuron Equations\n",
    "tau_e_decay_GrC = 6.0 * ms\n",
    "tau_e_decay_GoC = 3.0 * ms\n",
    "\n",
    "tau_i_decay_GrC = 15.0 * ms\n",
    "\n",
    "# Absolute refractory period\n",
    "tau_r_GrC = 2 * ms\n",
    "tau_r_GoC = 40* ms\n",
    "\n",
    "# Spiking threshold\n",
    "V_th_GrC   = -55 * mV\n",
    "V_th_GoC   = -50 * mV\n",
    "\n",
    "# Resting potential\n",
    "V_r_GrC    = -75 * mV\n",
    "V_r_GoC    = -55 * mV\n",
    "\n",
    "# Golgi cell reset potential\n",
    "V_reset_GoC = -60 * mV\n",
    "\n",
    "# Synaptic weights\n",
    "w_e_GrC = 0.65 * nS\n",
    "w_i_GrC = 0.08 * nS\n",
    "\n",
    "w_e_GoC_M = 0.35  * nS\n",
    "w_e_GoC_GrC = 0.0 * nS\n",
    "\n",
    "# Stochastic fluctuating excitatory current\n",
    "sigma_n_GoC = 0.01 * nS\n",
    "sigma_n_GrC = 0.03 * nS\n",
    "\n",
    "tau_n   = 20 * ms"
   ]
  },
  {
   "cell_type": "markdown",
   "metadata": {},
   "source": [
    "### Brian 2 Code (do not segment the following cell)"
   ]
  },
  {
   "cell_type": "code",
   "execution_count": 3,
   "metadata": {},
   "outputs": [
    {
     "name": "stdout",
     "output_type": "stream",
     "text": [
      "Starting simulation at t=0. s for a duration of 2. s\n",
      "2.0 (100%) simulated in 2s\n"
     ]
    }
   ],
   "source": [
    "#Brian 2 Code Block\n",
    "\n",
    "#neuron equations\n",
    "GoC_eqs = '''\n",
    "dv/dt   = (g_l*(E_l-v) + (g_e+g_n)*(E_e-v))/C_m : volt (unless refractory)\n",
    "dg_e/dt = -g_e/tau_e : siemens\n",
    "dg_n/dt = (-g_n + sigma_n_GoC * sqrt(tau_n) * xi)/tau_n : siemens\n",
    "'''\n",
    "\n",
    "# mossy fiber input\n",
    "stim_times = [1010, 1020, 1030]            # Mossy fiber stimulation times\n",
    "nstim      = len(stim_times)\n",
    "\n",
    "# Randomly select a subset of mossy fibers to spike at each stimulation\n",
    "# If you want a different subset of mossy fibers at each stimulation, move\n",
    "# the declaration of [active_indices] into the loop over stim_times\n",
    "\n",
    "if activeMF_seed is not None: np.random.seed(activeMF_seed) #seed value\n",
    "active_indices = sorted(np.random.choice(nmf, round(nmf * activeMF_fraction), replace=False)) \n",
    "indices    = []\n",
    "times      = []\n",
    "for j in range(nstim):\n",
    "    indices.extend(active_indices)\n",
    "    times.extend([stim_times[j]]*len(active_indices))\n",
    "times    = times * ms\n",
    "mf_input = SpikeGeneratorGroup(nmf, indices, times)\n",
    "\n",
    "#neurons \n",
    "GoC1 = NeuronGroup(nGoC,\n",
    "                   Equations(GoC_eqs,\n",
    "                             g_l = g_l_GoC,\n",
    "                             E_l = E_l_GoC,\n",
    "                             E_e = E_e_GoC,\n",
    "                             E_i = E_i_GoC,\n",
    "                             C_m = C_m_GoC,\n",
    "                             tau_e = tau_e_decay_GoC),\n",
    "                   threshold  = 'v > V_th_GoC',\n",
    "                   reset      = 'v = V_reset_GoC',\n",
    "                   refractory = 'tau_r_GoC',\n",
    "                   method     = 'euler')\n",
    "GoC1.v = V_r_GoC\n",
    "\n",
    "GoC2 = NeuronGroup(nGoC,\n",
    "                   Equations(GoC_eqs,\n",
    "                             g_l = g_l_GoC,\n",
    "                             E_l = E_l_GoC,\n",
    "                             E_e = E_e_GoC,\n",
    "                             E_i = E_i_GoC,\n",
    "                             C_m = C_m_GoC,\n",
    "                             tau_e = tau_e_decay_GoC),\n",
    "                   threshold  = 'v > V_th_GoC',\n",
    "                   reset      = 'v = V_reset_GoC',\n",
    "                   refractory = 'tau_r_GoC',\n",
    "                   method     = 'euler')\n",
    "GoC2.v = V_r_GoC\n",
    "\n",
    "#synaptic connections\n",
    "GoC1_M = Synapses(mf_input,GoC1,\n",
    "                  on_pre = 'g_e += w_e_GoC_M')\n",
    "GoC1_M.connect(p = conv_GoC_M/nmf)\n",
    "\n",
    "GoC2_M = Synapses(mf_input,GoC2,\n",
    "                  on_pre = 'g_e += w_e_GoC_M')\n",
    "GoC2_M.connect(p = conv_GoC_M/nmf)\n",
    "\n",
    "#simulation\n",
    "spikemon_GoC1 = SpikeMonitor(GoC1)\n",
    "spikemon_GoC2 = SpikeMonitor(GoC2)\n",
    "\n",
    "runtime = 2000\n",
    "run(runtime * ms, report='stdout', report_period=5*second,\n",
    "    profile=True)"
   ]
  },
  {
   "cell_type": "code",
   "execution_count": 4,
   "metadata": {},
   "outputs": [
    {
     "data": {
      "text/plain": [
       "[<matplotlib.lines.Line2D at 0x112ac24a8>]"
      ]
     },
     "execution_count": 4,
     "metadata": {},
     "output_type": "execute_result"
    },
    {
     "data": {
      "image/png": "[encoded data removed]",
      "text/plain": [
       "<Figure size 432x288 with 1 Axes>"
      ]
     },
     "metadata": {
      "needs_background": "light"
     },
     "output_type": "display_data"
    }
   ],
   "source": [
    "plot(spikemon_GoC1.t/ms, spikemon_GoC1.i, '.k')"
   ]
  },
  {
   "cell_type": "code",
   "execution_count": 5,
   "metadata": {},
   "outputs": [
    {
     "data": {
      "text/plain": [
       "[<matplotlib.lines.Line2D at 0x112134f98>]"
      ]
     },
     "execution_count": 5,
     "metadata": {},
     "output_type": "execute_result"
    },
    {
     "data": {
      "image/png": "[encoded data removed]",
      "text/plain": [
       "<Figure size 432x288 with 1 Axes>"
      ]
     },
     "metadata": {
      "needs_background": "light"
     },
     "output_type": "display_data"
    }
   ],
   "source": [
    "plot(spikemon_GoC2.t/ms, spikemon_GoC2.i, '.k')"
   ]
  },
  {
   "cell_type": "markdown",
   "metadata": {},
   "source": [
    "The mossy fiber connects are not held constant in this scenario, however, the baseline firing of the cells are not constant. Yet, is flawed assumption; look at the first spike times across all cells and check for similarity. "
   ]
  },
  {
   "cell_type": "code",
   "execution_count": 6,
   "metadata": {},
   "outputs": [],
   "source": [
    "dfgoc1 = pd.DataFrame({'GoC':spikemon_GoC1.i, 'spk_t': spikemon_GoC1.t/ms})\n",
    "dfgoc1.sort_values('spk_t', inplace=True)\n",
    "dfgoc2 = pd.DataFrame({'GoC':spikemon_GoC2.i, 'spk_t': spikemon_GoC2.t/ms})\n",
    "dfgoc2.sort_values('spk_t', inplace=True)"
   ]
  },
  {
   "cell_type": "code",
   "execution_count": 7,
   "metadata": {},
   "outputs": [
    {
     "data": {
      "text/html": [
       "<div>\n",
       "<style scoped>\n",
       "    .dataframe tbody tr th:only-of-type {\n",
       "        vertical-align: middle;\n",
       "    }\n",
       "\n",
       "    .dataframe tbody tr th {\n",
       "        vertical-align: top;\n",
       "    }\n",
       "\n",
       "    .dataframe thead th {\n",
       "        text-align: right;\n",
       "    }\n",
       "</style>\n",
       "<table border=\"1\" class=\"dataframe\">\n",
       "  <thead>\n",
       "    <tr style=\"text-align: right;\">\n",
       "      <th></th>\n",
       "      <th>GoC</th>\n",
       "      <th>spk_t</th>\n",
       "    </tr>\n",
       "  </thead>\n",
       "  <tbody>\n",
       "    <tr>\n",
       "      <th>0</th>\n",
       "      <td>6</td>\n",
       "      <td>64.2</td>\n",
       "    </tr>\n",
       "    <tr>\n",
       "      <th>1</th>\n",
       "      <td>2</td>\n",
       "      <td>65.5</td>\n",
       "    </tr>\n",
       "    <tr>\n",
       "      <th>2</th>\n",
       "      <td>10</td>\n",
       "      <td>70.2</td>\n",
       "    </tr>\n",
       "    <tr>\n",
       "      <th>3</th>\n",
       "      <td>16</td>\n",
       "      <td>77.0</td>\n",
       "    </tr>\n",
       "    <tr>\n",
       "      <th>4</th>\n",
       "      <td>8</td>\n",
       "      <td>78.5</td>\n",
       "    </tr>\n",
       "  </tbody>\n",
       "</table>\n",
       "</div>"
      ],
      "text/plain": [
       "   GoC  spk_t\n",
       "0    6   64.2\n",
       "1    2   65.5\n",
       "2   10   70.2\n",
       "3   16   77.0\n",
       "4    8   78.5"
      ]
     },
     "execution_count": 7,
     "metadata": {},
     "output_type": "execute_result"
    }
   ],
   "source": [
    "dfgoc1.head()"
   ]
  },
  {
   "cell_type": "code",
   "execution_count": 8,
   "metadata": {},
   "outputs": [],
   "source": [
    "df_allgoc = pd.concat([dfgoc1.set_index(dfgoc1.index), dfgoc2.set_index(dfgoc2.index)], \n",
    "                      axis='columns', keys=['group1', 'group2'])"
   ]
  },
  {
   "cell_type": "code",
   "execution_count": 9,
   "metadata": {},
   "outputs": [
    {
     "data": {
      "text/html": [
       "<div>\n",
       "<style scoped>\n",
       "    .dataframe tbody tr th:only-of-type {\n",
       "        vertical-align: middle;\n",
       "    }\n",
       "\n",
       "    .dataframe tbody tr th {\n",
       "        vertical-align: top;\n",
       "    }\n",
       "\n",
       "    .dataframe thead tr th {\n",
       "        text-align: left;\n",
       "    }\n",
       "</style>\n",
       "<table border=\"1\" class=\"dataframe\">\n",
       "  <thead>\n",
       "    <tr>\n",
       "      <th></th>\n",
       "      <th colspan=\"2\" halign=\"left\">group1</th>\n",
       "      <th colspan=\"2\" halign=\"left\">group2</th>\n",
       "    </tr>\n",
       "    <tr>\n",
       "      <th></th>\n",
       "      <th>GoC</th>\n",
       "      <th>spk_t</th>\n",
       "      <th>GoC</th>\n",
       "      <th>spk_t</th>\n",
       "    </tr>\n",
       "  </thead>\n",
       "  <tbody>\n",
       "    <tr>\n",
       "      <th>0</th>\n",
       "      <td>6.0</td>\n",
       "      <td>64.2</td>\n",
       "      <td>3</td>\n",
       "      <td>78.1</td>\n",
       "    </tr>\n",
       "    <tr>\n",
       "      <th>1</th>\n",
       "      <td>2.0</td>\n",
       "      <td>65.5</td>\n",
       "      <td>1</td>\n",
       "      <td>78.4</td>\n",
       "    </tr>\n",
       "    <tr>\n",
       "      <th>2</th>\n",
       "      <td>10.0</td>\n",
       "      <td>70.2</td>\n",
       "      <td>0</td>\n",
       "      <td>86.3</td>\n",
       "    </tr>\n",
       "    <tr>\n",
       "      <th>3</th>\n",
       "      <td>16.0</td>\n",
       "      <td>77.0</td>\n",
       "      <td>11</td>\n",
       "      <td>87.7</td>\n",
       "    </tr>\n",
       "    <tr>\n",
       "      <th>4</th>\n",
       "      <td>8.0</td>\n",
       "      <td>78.5</td>\n",
       "      <td>14</td>\n",
       "      <td>91.3</td>\n",
       "    </tr>\n",
       "    <tr>\n",
       "      <th>5</th>\n",
       "      <td>26.0</td>\n",
       "      <td>81.5</td>\n",
       "      <td>13</td>\n",
       "      <td>93.1</td>\n",
       "    </tr>\n",
       "    <tr>\n",
       "      <th>6</th>\n",
       "      <td>25.0</td>\n",
       "      <td>82.5</td>\n",
       "      <td>23</td>\n",
       "      <td>93.1</td>\n",
       "    </tr>\n",
       "    <tr>\n",
       "      <th>7</th>\n",
       "      <td>3.0</td>\n",
       "      <td>87.3</td>\n",
       "      <td>15</td>\n",
       "      <td>96.1</td>\n",
       "    </tr>\n",
       "    <tr>\n",
       "      <th>8</th>\n",
       "      <td>0.0</td>\n",
       "      <td>94.3</td>\n",
       "      <td>6</td>\n",
       "      <td>99.1</td>\n",
       "    </tr>\n",
       "    <tr>\n",
       "      <th>9</th>\n",
       "      <td>14.0</td>\n",
       "      <td>101.5</td>\n",
       "      <td>12</td>\n",
       "      <td>101.8</td>\n",
       "    </tr>\n",
       "  </tbody>\n",
       "</table>\n",
       "</div>"
      ],
      "text/plain": [
       "  group1        group2       \n",
       "     GoC  spk_t    GoC  spk_t\n",
       "0    6.0   64.2      3   78.1\n",
       "1    2.0   65.5      1   78.4\n",
       "2   10.0   70.2      0   86.3\n",
       "3   16.0   77.0     11   87.7\n",
       "4    8.0   78.5     14   91.3\n",
       "5   26.0   81.5     13   93.1\n",
       "6   25.0   82.5     23   93.1\n",
       "7    3.0   87.3     15   96.1\n",
       "8    0.0   94.3      6   99.1\n",
       "9   14.0  101.5     12  101.8"
      ]
     },
     "execution_count": 9,
     "metadata": {},
     "output_type": "execute_result"
    }
   ],
   "source": [
    "df_allgoc.head(10)"
   ]
  },
  {
   "cell_type": "markdown",
   "metadata": {},
   "source": [
    "#### It seems that the stochastic current causes random spiking across the population."
   ]
  },
  {
   "cell_type": "code",
   "execution_count": 10,
   "metadata": {},
   "outputs": [
    {
     "data": {
      "text/plain": [
       "<synapses.i: array([  0,   0,   0, ..., 314, 314, 314], dtype=int32)>"
      ]
     },
     "execution_count": 10,
     "metadata": {},
     "output_type": "execute_result"
    }
   ],
   "source": [
    "GoC1_M.i"
   ]
  },
  {
   "cell_type": "code",
   "execution_count": 11,
   "metadata": {},
   "outputs": [
    {
     "data": {
      "text/plain": [
       "<synapses.j: array([ 4, 11, 14, ...,  7, 12, 22], dtype=int32)>"
      ]
     },
     "execution_count": 11,
     "metadata": {},
     "output_type": "execute_result"
    }
   ],
   "source": [
    "GoC1_M.j"
   ]
  },
  {
   "cell_type": "code",
   "execution_count": 12,
   "metadata": {},
   "outputs": [],
   "source": [
    "mf_goc1 = pd.DataFrame({'mf': GoC1_M.i[:],'GoC':GoC1_M.j[:]})\n",
    "mf_goc2 = pd.DataFrame({'mf': GoC2_M.i[:],'GoC':GoC2_M.j[:]})"
   ]
  },
  {
   "cell_type": "code",
   "execution_count": 13,
   "metadata": {},
   "outputs": [
    {
     "data": {
      "text/html": [
       "<div>\n",
       "<style scoped>\n",
       "    .dataframe tbody tr th:only-of-type {\n",
       "        vertical-align: middle;\n",
       "    }\n",
       "\n",
       "    .dataframe tbody tr th {\n",
       "        vertical-align: top;\n",
       "    }\n",
       "\n",
       "    .dataframe thead th {\n",
       "        text-align: right;\n",
       "    }\n",
       "</style>\n",
       "<table border=\"1\" class=\"dataframe\">\n",
       "  <thead>\n",
       "    <tr style=\"text-align: right;\">\n",
       "      <th></th>\n",
       "      <th>mf</th>\n",
       "      <th>GoC</th>\n",
       "    </tr>\n",
       "  </thead>\n",
       "  <tbody>\n",
       "    <tr>\n",
       "      <th>0</th>\n",
       "      <td>0</td>\n",
       "      <td>4</td>\n",
       "    </tr>\n",
       "    <tr>\n",
       "      <th>1</th>\n",
       "      <td>0</td>\n",
       "      <td>11</td>\n",
       "    </tr>\n",
       "    <tr>\n",
       "      <th>2</th>\n",
       "      <td>0</td>\n",
       "      <td>14</td>\n",
       "    </tr>\n",
       "    <tr>\n",
       "      <th>3</th>\n",
       "      <td>0</td>\n",
       "      <td>15</td>\n",
       "    </tr>\n",
       "    <tr>\n",
       "      <th>4</th>\n",
       "      <td>0</td>\n",
       "      <td>24</td>\n",
       "    </tr>\n",
       "  </tbody>\n",
       "</table>\n",
       "</div>"
      ],
      "text/plain": [
       "   mf  GoC\n",
       "0   0    4\n",
       "1   0   11\n",
       "2   0   14\n",
       "3   0   15\n",
       "4   0   24"
      ]
     },
     "execution_count": 13,
     "metadata": {},
     "output_type": "execute_result"
    }
   ],
   "source": [
    "mf_goc1.head()"
   ]
  },
  {
   "cell_type": "code",
   "execution_count": 14,
   "metadata": {},
   "outputs": [],
   "source": [
    "net_connections = pd.concat([mf_goc1.set_index(mf_goc1.index), mf_goc2.set_index(mf_goc2.index)], \n",
    "                            axis='columns', keys=['group1', 'group2'])"
   ]
  },
  {
   "cell_type": "code",
   "execution_count": 15,
   "metadata": {},
   "outputs": [
    {
     "data": {
      "text/html": [
       "<div>\n",
       "<style scoped>\n",
       "    .dataframe tbody tr th:only-of-type {\n",
       "        vertical-align: middle;\n",
       "    }\n",
       "\n",
       "    .dataframe tbody tr th {\n",
       "        vertical-align: top;\n",
       "    }\n",
       "\n",
       "    .dataframe thead tr th {\n",
       "        text-align: left;\n",
       "    }\n",
       "</style>\n",
       "<table border=\"1\" class=\"dataframe\">\n",
       "  <thead>\n",
       "    <tr>\n",
       "      <th></th>\n",
       "      <th colspan=\"2\" halign=\"left\">group1</th>\n",
       "      <th colspan=\"2\" halign=\"left\">group2</th>\n",
       "    </tr>\n",
       "    <tr>\n",
       "      <th></th>\n",
       "      <th>mf</th>\n",
       "      <th>GoC</th>\n",
       "      <th>mf</th>\n",
       "      <th>GoC</th>\n",
       "    </tr>\n",
       "  </thead>\n",
       "  <tbody>\n",
       "    <tr>\n",
       "      <th>0</th>\n",
       "      <td>0.0</td>\n",
       "      <td>4.0</td>\n",
       "      <td>0</td>\n",
       "      <td>4</td>\n",
       "    </tr>\n",
       "    <tr>\n",
       "      <th>1</th>\n",
       "      <td>0.0</td>\n",
       "      <td>11.0</td>\n",
       "      <td>0</td>\n",
       "      <td>7</td>\n",
       "    </tr>\n",
       "    <tr>\n",
       "      <th>2</th>\n",
       "      <td>0.0</td>\n",
       "      <td>14.0</td>\n",
       "      <td>0</td>\n",
       "      <td>10</td>\n",
       "    </tr>\n",
       "    <tr>\n",
       "      <th>3</th>\n",
       "      <td>0.0</td>\n",
       "      <td>15.0</td>\n",
       "      <td>0</td>\n",
       "      <td>12</td>\n",
       "    </tr>\n",
       "    <tr>\n",
       "      <th>4</th>\n",
       "      <td>0.0</td>\n",
       "      <td>24.0</td>\n",
       "      <td>0</td>\n",
       "      <td>18</td>\n",
       "    </tr>\n",
       "  </tbody>\n",
       "</table>\n",
       "</div>"
      ],
      "text/plain": [
       "  group1       group2    \n",
       "      mf   GoC     mf GoC\n",
       "0    0.0   4.0      0   4\n",
       "1    0.0  11.0      0   7\n",
       "2    0.0  14.0      0  10\n",
       "3    0.0  15.0      0  12\n",
       "4    0.0  24.0      0  18"
      ]
     },
     "execution_count": 15,
     "metadata": {},
     "output_type": "execute_result"
    }
   ],
   "source": [
    "net_connections.head()"
   ]
  }
 ],
 "metadata": {
  "kernelspec": {
   "display_name": "Python 3",
   "language": "python",
   "name": "python3"
  },
  "language_info": {
   "codemirror_mode": {
    "name": "ipython",
    "version": 3
   },
   "file_extension": ".py",
   "mimetype": "text/x-python",
   "name": "python",
   "nbconvert_exporter": "python",
   "pygments_lexer": "ipython3",
   "version": "3.6.8"
  }
 },
 "nbformat": 4,
 "nbformat_minor": 2
}
